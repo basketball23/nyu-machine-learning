{
 "cells": [
  {
   "cell_type": "markdown",
   "id": "8e3d54c6",
   "metadata": {},
   "source": [
    "# Iris Classification"
   ]
  },
  {
   "cell_type": "code",
   "execution_count": 2,
   "id": "7a7d343e",
   "metadata": {},
   "outputs": [],
   "source": [
    "import numpy as np\n",
    "import matplotlib.pyplot as plt\n",
    "from sklearn.datasets import load_iris"
   ]
  },
  {
   "cell_type": "code",
   "execution_count": 3,
   "id": "dc11910a",
   "metadata": {},
   "outputs": [
    {
     "name": "stdout",
     "output_type": "stream",
     "text": [
      "(150, 2)\n",
      "(150,)\n"
     ]
    }
   ],
   "source": [
    "iris = load_iris()\n",
    "\n",
    "X = iris.data[:, :2] # sepal length, sepal width\n",
    "y = iris.target\n",
    "\n",
    "print(X.shape)\n",
    "print(y.shape)\n"
   ]
  },
  {
   "cell_type": "code",
   "execution_count": null,
   "id": "f96e54f7",
   "metadata": {},
   "outputs": [
    {
     "name": "stdout",
     "output_type": "stream",
     "text": [
      "(50, 2)\n"
     ]
    }
   ],
   "source": [
    "print(X[y == 0].shape)"
   ]
  },
  {
   "cell_type": "markdown",
   "id": "1128e3da",
   "metadata": {},
   "source": [
    "### Graphing Iris Datapoints"
   ]
  },
  {
   "cell_type": "code",
   "execution_count": 15,
   "id": "a97f6c38",
   "metadata": {},
   "outputs": [
    {
     "data": {
      "image/png": "[encoded data removed]",
      "text/plain": [
       "<Figure size 640x480 with 1 Axes>"
      ]
     },
     "metadata": {},
     "output_type": "display_data"
    }
   ],
   "source": [
    "plt.scatter(X[y == 0][:, 0], X[y == 0][:, 1], color=\"red\", label=\"Class 0\")\n",
    "plt.scatter(X[y == 1][:, 0], X[y == 1][:, 1], color=\"blue\", label=\"Class 1\")\n",
    "plt.scatter(X[y == 2][:, 0], X[y == 2][:, 1], color=\"green\", label=\"Class 2\")\n",
    "plt.legend()\n",
    "plt.show()"
   ]
  },
  {
   "cell_type": "markdown",
   "id": "38f7b8d4",
   "metadata": {},
   "source": [
    "### Training and testing data split"
   ]
  },
  {
   "cell_type": "code",
   "execution_count": 18,
   "id": "18c86c25",
   "metadata": {},
   "outputs": [
    {
     "name": "stdout",
     "output_type": "stream",
     "text": [
      "X train shape: (90, 2)\n",
      "X test shape: (60, 2)\n",
      "y train shape: (90,)\n",
      "y test shape: (60,)\n"
     ]
    }
   ],
   "source": [
    "from sklearn.model_selection import train_test_split\n",
    "\n",
    "X_train, X_test, y_train, y_test = train_test_split(X, y, test_size = 0.4)\n",
    "\n",
    "print(f\"X train shape: {X_train.shape}\")\n",
    "print(f\"X test shape: {X_test.shape}\")\n",
    "print(f\"y train shape: {y_train.shape}\")\n",
    "print(f\"y test shape: {y_test.shape}\")\n"
   ]
  },
  {
   "cell_type": "markdown",
   "id": "83ceaa61",
   "metadata": {},
   "source": [
    "## Model to predict iris class"
   ]
  },
  {
   "cell_type": "code",
   "execution_count": 22,
   "id": "1688d2f3",
   "metadata": {},
   "outputs": [
    {
     "name": "stdout",
     "output_type": "stream",
     "text": [
      "Training accuracy: 1.0\n",
      "Testing accuracy: 0.9696969696969697\n"
     ]
    }
   ],
   "source": [
    "from sklearn.linear_model import LogisticRegression\n",
    "\n",
    "model = LogisticRegression()\n",
    "model.fit(X_train, y_train)\n",
    "\n",
    "def metrics(y, y_hat):\n",
    "    # TP, TN, FP, FN\n",
    "    TP = np.sum(y+y_hat == 2) # y is 1 and y_hat is 1\n",
    "    TN = np.sum(y+y_hat == 0) # Both are 0\n",
    "    FP = np.sum((y == 0) & (y_hat == 1)) # predicted 1, actually 0\n",
    "    FN = np.sum((y == 1) & (y_hat == 0)) # predicted 0, actually 1\n",
    "\n",
    "    accuracy = (TP + TN) / (TP + TN + FP + FN)\n",
    "    ## We care about sensitivity the most in a medical scenario.\n",
    "    ## IN a medical case, it's infinitely better to have more false alarms than cause a death by missed detection\n",
    "    sensitivity = TP / (TP + FN)\n",
    "    precision = TP / (TP + FP)\n",
    "\n",
    "    return accuracy\n",
    "\n",
    "    '''\n",
    "    print(f\"Accuracy: {accuracy}\")\n",
    "    print(f\"Sensitivity: {sensitivity}\")\n",
    "    print(f\"Precision: {precision}\")\n",
    "    '''\n",
    "\n",
    "y_hat_train = model.predict(X_train)\n",
    "y_hat_test = model.predict(X_test)\n",
    "\n",
    "print(f\"Training accuracy: {metrics(y_train, y_hat_train)}\")\n",
    "print(f\"Testing accuracy: {metrics(y_test, y_hat_test)}\")"
   ]
  }
 ],
 "metadata": {
  "kernelspec": {
   "display_name": ".venv",
   "language": "python",
   "name": "python3"
  },
  "language_info": {
   "codemirror_mode": {
    "name": "ipython",
    "version": 3
   },
   "file_extension": ".py",
   "mimetype": "text/x-python",
   "name": "python",
   "nbconvert_exporter": "python",
   "pygments_lexer": "ipython3",
   "version": "3.9.6"
  }
 },
 "nbformat": 4,
 "nbformat_minor": 5
}
