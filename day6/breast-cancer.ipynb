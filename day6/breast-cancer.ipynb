{
 "cells": [
  {
   "cell_type": "markdown",
   "id": "aaaed296",
   "metadata": {},
   "source": [
    "# Detecting breast cancer"
   ]
  },
  {
   "cell_type": "code",
   "execution_count": 10,
   "id": "0addc5eb",
   "metadata": {},
   "outputs": [],
   "source": [
    "import numpy as np\n",
    "import pandas as pd\n",
    "import matplotlib.pyplot as plt"
   ]
  },
  {
   "cell_type": "markdown",
   "id": "8932f6cb",
   "metadata": {},
   "source": [
    "### Inputting"
   ]
  },
  {
   "cell_type": "code",
   "execution_count": null,
   "id": "2b52c045",
   "metadata": {},
   "outputs": [
    {
     "data": {
      "text/html": [
       "<div>\n",
       "<style scoped>\n",
       "    .dataframe tbody tr th:only-of-type {\n",
       "        vertical-align: middle;\n",
       "    }\n",
       "\n",
       "    .dataframe tbody tr th {\n",
       "        vertical-align: top;\n",
       "    }\n",
       "\n",
       "    .dataframe thead th {\n",
       "        text-align: right;\n",
       "    }\n",
       "</style>\n",
       "<table border=\"1\" class=\"dataframe\">\n",
       "  <thead>\n",
       "    <tr style=\"text-align: right;\">\n",
       "      <th></th>\n",
       "      <th>id</th>\n",
       "      <th>thick</th>\n",
       "      <th>size</th>\n",
       "      <th>shape</th>\n",
       "      <th>marg</th>\n",
       "      <th>cell_size</th>\n",
       "      <th>bare</th>\n",
       "      <th>chrom</th>\n",
       "      <th>normal</th>\n",
       "      <th>mit</th>\n",
       "      <th>class</th>\n",
       "    </tr>\n",
       "  </thead>\n",
       "  <tbody>\n",
       "    <tr>\n",
       "      <th>0</th>\n",
       "      <td>1000025</td>\n",
       "      <td>5</td>\n",
       "      <td>1</td>\n",
       "      <td>1</td>\n",
       "      <td>1</td>\n",
       "      <td>2</td>\n",
       "      <td>1.0</td>\n",
       "      <td>3</td>\n",
       "      <td>1</td>\n",
       "      <td>1</td>\n",
       "      <td>2</td>\n",
       "    </tr>\n",
       "    <tr>\n",
       "      <th>1</th>\n",
       "      <td>1002945</td>\n",
       "      <td>5</td>\n",
       "      <td>4</td>\n",
       "      <td>4</td>\n",
       "      <td>5</td>\n",
       "      <td>7</td>\n",
       "      <td>10.0</td>\n",
       "      <td>3</td>\n",
       "      <td>2</td>\n",
       "      <td>1</td>\n",
       "      <td>2</td>\n",
       "    </tr>\n",
       "    <tr>\n",
       "      <th>2</th>\n",
       "      <td>1015425</td>\n",
       "      <td>3</td>\n",
       "      <td>1</td>\n",
       "      <td>1</td>\n",
       "      <td>1</td>\n",
       "      <td>2</td>\n",
       "      <td>2.0</td>\n",
       "      <td>3</td>\n",
       "      <td>1</td>\n",
       "      <td>1</td>\n",
       "      <td>2</td>\n",
       "    </tr>\n",
       "    <tr>\n",
       "      <th>3</th>\n",
       "      <td>1016277</td>\n",
       "      <td>6</td>\n",
       "      <td>8</td>\n",
       "      <td>8</td>\n",
       "      <td>1</td>\n",
       "      <td>3</td>\n",
       "      <td>4.0</td>\n",
       "      <td>3</td>\n",
       "      <td>7</td>\n",
       "      <td>1</td>\n",
       "      <td>2</td>\n",
       "    </tr>\n",
       "    <tr>\n",
       "      <th>4</th>\n",
       "      <td>1017023</td>\n",
       "      <td>4</td>\n",
       "      <td>1</td>\n",
       "      <td>1</td>\n",
       "      <td>3</td>\n",
       "      <td>2</td>\n",
       "      <td>1.0</td>\n",
       "      <td>3</td>\n",
       "      <td>1</td>\n",
       "      <td>1</td>\n",
       "      <td>2</td>\n",
       "    </tr>\n",
       "    <tr>\n",
       "      <th>5</th>\n",
       "      <td>1017122</td>\n",
       "      <td>8</td>\n",
       "      <td>10</td>\n",
       "      <td>10</td>\n",
       "      <td>8</td>\n",
       "      <td>7</td>\n",
       "      <td>10.0</td>\n",
       "      <td>9</td>\n",
       "      <td>7</td>\n",
       "      <td>1</td>\n",
       "      <td>4</td>\n",
       "    </tr>\n",
       "  </tbody>\n",
       "</table>\n",
       "</div>"
      ],
      "text/plain": [
       "        id  thick  size  shape  marg  cell_size  bare  chrom  normal  mit  \\\n",
       "0  1000025      5     1      1     1          2   1.0      3       1    1   \n",
       "1  1002945      5     4      4     5          7  10.0      3       2    1   \n",
       "2  1015425      3     1      1     1          2   2.0      3       1    1   \n",
       "3  1016277      6     8      8     1          3   4.0      3       7    1   \n",
       "4  1017023      4     1      1     3          2   1.0      3       1    1   \n",
       "5  1017122      8    10     10     8          7  10.0      9       7    1   \n",
       "\n",
       "   class  \n",
       "0      2  \n",
       "1      2  \n",
       "2      2  \n",
       "3      2  \n",
       "4      2  \n",
       "5      4  "
      ]
     },
     "execution_count": 4,
     "metadata": {},
     "output_type": "execute_result"
    }
   ],
   "source": [
    "names = ['id','thick','size','shape','marg','cell_size','bare',\n",
    "         'chrom','normal','mit','class']\n",
    "df = pd.read_csv('https://archive.ics.uci.edu/ml/machine-learning-databases/' +\n",
    "                 'breast-cancer-wisconsin/breast-cancer-wisconsin.data',\n",
    "                names=names,na_values='?',header=None)\n",
    "\n",
    "df.head(6)"
   ]
  },
  {
   "cell_type": "code",
   "execution_count": 5,
   "id": "964d83fe",
   "metadata": {},
   "outputs": [
    {
     "name": "stdout",
     "output_type": "stream",
     "text": [
      "X1 shape: (699,) | x2 shape: (699,)\n"
     ]
    }
   ],
   "source": [
    "x1 = df['size'].values\n",
    "x2 = df['marg'].values\n",
    "\n",
    "print(f\"X1 shape: {x1.shape} | x2 shape: {x2.shape}\")"
   ]
  },
  {
   "cell_type": "code",
   "execution_count": 7,
   "id": "18621d10",
   "metadata": {},
   "outputs": [],
   "source": [
    "# Check if each value in 'class' is equal to 4, and return a numpy array filled with 1s or 0s \n",
    "y = (df['class'].values == 4).astype(int)"
   ]
  },
  {
   "cell_type": "code",
   "execution_count": 9,
   "id": "14f5739d",
   "metadata": {},
   "outputs": [
    {
     "name": "stdout",
     "output_type": "stream",
     "text": [
      "(241,)\n",
      "(458,)\n",
      "\n",
      "(241,)\n",
      "(458,)\n",
      "241\n"
     ]
    }
   ],
   "source": [
    "print(x1[y == 1].shape) # x1 where y is 1\n",
    "print(x1[y == 0].shape) # x1 where y is 0\n",
    "print()\n",
    "print(x2[y == 1].shape) # x2 where y is 1\n",
    "print(x2[y == 0].shape) # x2 where y is 0\n",
    "\n",
    "print(y.sum())"
   ]
  },
  {
   "cell_type": "markdown",
   "id": "996cdb0f",
   "metadata": {},
   "source": [
    "### Bad way of plotting"
   ]
  },
  {
   "cell_type": "code",
   "execution_count": 11,
   "id": "7e3c5202",
   "metadata": {},
   "outputs": [
    {
     "data": {
      "image/png": "[encoded data removed]",
      "text/plain": [
       "<Figure size 300x300 with 1 Axes>"
      ]
     },
     "metadata": {},
     "output_type": "display_data"
    }
   ],
   "source": [
    "plt.figure(figsize=(3,3))\n",
    "plt.scatter(x1[y == 1], x2[y == 1], color=\"red\", label=\"Malignant\")\n",
    "plt.scatter(x1[y == 0], x2[y == 0], color=\"green\", label=\"Benign\")\n",
    "plt.legend()\n",
    "plt.show()"
   ]
  },
  {
   "cell_type": "markdown",
   "id": "33e57604",
   "metadata": {},
   "source": [
    "## Plotting Malignant vs Benign tumors"
   ]
  },
  {
   "cell_type": "code",
   "execution_count": 14,
   "id": "73ce838b",
   "metadata": {},
   "outputs": [],
   "source": [
    "\n",
    "def plot_count(X, y):\n",
    "    '''\n",
    "    X - Table (numpy 2d array) of shape = (num_rows, 2 columns)\n",
    "    y - Takes values 0 or 1 (numpy 1d array) of shape (num_rows, )\n",
    "    returns - plt after plotting all points correctly\n",
    "    '''\n",
    "    xnames = ['size', 'marg']\n",
    "    # Compute the bin edges for the 2d histogram\n",
    "    x0val = np.array(list(set(X[:,0]))).astype(float)\n",
    "    x1val = np.array(list(set(X[:,1]))).astype(float)\n",
    "    x0, x1 = np.meshgrid(x0val,x1val)\n",
    "    x0e= np.hstack((x0val,np.max(x0val)+1))\n",
    "    x1e= np.hstack((x1val,np.max(x1val)+1))\n",
    "\n",
    "    # Make a plot for each class\n",
    "    yval = list(set(y))\n",
    "    color = ['g','r']\n",
    "    plt.figure(figsize=(8,6))\n",
    "    for i in range(len(yval)):\n",
    "        I = np.where(y==yval[i])[0]\n",
    "        count, x0e, x1e = np.histogram2d(X[I,0],X[I,1],[x0e,x1e])\n",
    "        x0, x1 = np.meshgrid(x0val,x1val)\n",
    "        plt.scatter(x0.ravel(), x1.ravel(), s=2*count.ravel(),alpha=0.5,\n",
    "                    c=color[i],edgecolors='none')\n",
    "    plt.ylim([0,14])\n",
    "    plt.legend(['benign','malign'], loc='upper right')\n",
    "    plt.xlabel(xnames[0], fontsize=16)\n",
    "    plt.ylabel(xnames[1], fontsize=16)\n",
    "    return plt"
   ]
  },
  {
   "cell_type": "code",
   "execution_count": 15,
   "id": "79cbdda1",
   "metadata": {},
   "outputs": [
    {
     "name": "stdout",
     "output_type": "stream",
     "text": [
      "(699, 2)\n"
     ]
    },
    {
     "data": {
      "image/png": "[encoded data removed]",
      "text/plain": [
       "<Figure size 800x600 with 1 Axes>"
      ]
     },
     "metadata": {},
     "output_type": "display_data"
    }
   ],
   "source": [
    "X = df[['size', 'marg']].values\n",
    "print(X.shape)\n",
    "plot_count(X, y)\n",
    "plt.show()"
   ]
  },
  {
   "cell_type": "markdown",
   "id": "f79907eb",
   "metadata": {},
   "source": [
    "## Classification:\n",
    "### Logistic Regression"
   ]
  },
  {
   "cell_type": "code",
   "execution_count": null,
   "id": "62b6cefe",
   "metadata": {},
   "outputs": [],
   "source": [
    "from sklearn.linear_model import LogisticRegression\n",
    "from sklearn.metrics import log_loss\n",
    "\n",
    "model = LogisticRegression()\n",
    "model.fit(X, y)\n",
    "\n",
    "y_hat = model.predict(X)\n",
    "print(y_hat)\n",
    "\n",
    "bce = log_loss(y, y_hat)\n",
    "print(f\"Binary cross entropy: {bce}\")\n"
   ]
  },
  {
   "cell_type": "markdown",
   "id": "e560b92f",
   "metadata": {},
   "source": [
    "### Function to print accuracy, sensitivity, precision, TP, TN, FP, FN"
   ]
  },
  {
   "cell_type": "code",
   "execution_count": 62,
   "id": "2421a75d",
   "metadata": {},
   "outputs": [
    {
     "name": "stdout",
     "output_type": "stream",
     "text": [
      "203 445 13 38\n",
      "699\n"
     ]
    }
   ],
   "source": [
    "def metrics(y, y_hat):\n",
    "    # TP, TN, FP, FN\n",
    "    TP = np.sum(y+y_hat == 2) # y is 1 and y_hat is 1\n",
    "    TN = np.sum(y+y_hat == 0) # Both are 0\n",
    "    FP = np.sum((y == 0) & (y_hat == 1)) # predicted 1, actually 0\n",
    "    FN = np.sum((y == 1) & (y_hat == 0)) # predicted 0, actually 1\n",
    "\n",
    "    print(TP, TN, FP, FN)\n",
    "    print(TP + TN + FP + FN)\n",
    "\n",
    "metrics(y, y_hat)"
   ]
  }
 ],
 "metadata": {
  "kernelspec": {
   "display_name": ".venv",
   "language": "python",
   "name": "python3"
  },
  "language_info": {
   "codemirror_mode": {
    "name": "ipython",
    "version": 3
   },
   "file_extension": ".py",
   "mimetype": "text/x-python",
   "name": "python",
   "nbconvert_exporter": "python",
   "pygments_lexer": "ipython3",
   "version": "3.9.6"
  }
 },
 "nbformat": 4,
 "nbformat_minor": 5
}
