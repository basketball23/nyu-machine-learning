{
 "cells": [
  {
   "cell_type": "markdown",
   "id": "3e80fc01",
   "metadata": {},
   "source": [
    "# Polynomial Fitting with Scikit-Learn"
   ]
  },
  {
   "cell_type": "code",
   "execution_count": 4,
   "id": "2320abd5",
   "metadata": {},
   "outputs": [],
   "source": [
    "import pandas as pd\n",
    "import numpy as np\n",
    "\n",
    "\n",
    "url = \"https://archive.ics.uci.edu/ml/machine-learning-databases/housing/housing.data\"\n",
    "col_names = ['CRIM','ZN','INDUS','CHAS','NOX','RM','AGE','DIS','RAD','TAX','PTRATIO','B','LSTAT','PRICE']\n",
    "\n",
    "df = pd.read_csv(url, header=None, names=col_names, sep='\\s+')\n",
    "\n",
    "\n",
    "x_col_names = ['CRIM','ZN','INDUS','CHAS','NOX','RM','AGE','DIS','RAD','TAX','PTRATIO','B','LSTAT']\n",
    "y_col_names = ['PRICE']\n",
    "\n",
    "\n",
    "x = df[x_col_names].values\n",
    "y = df[\"PRICE\"].values\n",
    "\n",
    "ones_col = np.ones((x.shape[0], 1))\n",
    "\n",
    "X = np.hstack([ones_col, x])\n",
    "Y = y.reshape(-1, 1)"
   ]
  },
  {
   "cell_type": "markdown",
   "id": "6d32d8bb",
   "metadata": {},
   "source": [
    "### Sklearn Linear Regression"
   ]
  },
  {
   "cell_type": "code",
   "execution_count": 18,
   "id": "003f88cb",
   "metadata": {},
   "outputs": [
    {
     "name": "stdout",
     "output_type": "stream",
     "text": [
      "21.894831181729202\n"
     ]
    },
    {
     "name": "stderr",
     "output_type": "stream",
     "text": [
      "/Users/andrewlou/Documents/Coding/NYU-Machine-Learning/.venv/lib/python3.9/site-packages/sklearn/linear_model/_base.py:279: RuntimeWarning: divide by zero encountered in matmul\n",
      "  return X @ coef_ + self.intercept_\n",
      "/Users/andrewlou/Documents/Coding/NYU-Machine-Learning/.venv/lib/python3.9/site-packages/sklearn/linear_model/_base.py:279: RuntimeWarning: overflow encountered in matmul\n",
      "  return X @ coef_ + self.intercept_\n",
      "/Users/andrewlou/Documents/Coding/NYU-Machine-Learning/.venv/lib/python3.9/site-packages/sklearn/linear_model/_base.py:279: RuntimeWarning: invalid value encountered in matmul\n",
      "  return X @ coef_ + self.intercept_\n"
     ]
    }
   ],
   "source": [
    "from sklearn.linear_model import LinearRegression\n",
    "\n",
    "model = LinearRegression(fit_intercept=False)\n",
    "\n",
    "model.fit(X, y)\n",
    "\n",
    "y_hat = model.predict(X)\n",
    "\n",
    "mse = np.mean((y - y_hat) ** 2)\n",
    "print(mse)"
   ]
  }
 ],
 "metadata": {
  "kernelspec": {
   "display_name": ".venv",
   "language": "python",
   "name": "python3"
  },
  "language_info": {
   "codemirror_mode": {
    "name": "ipython",
    "version": 3
   },
   "file_extension": ".py",
   "mimetype": "text/x-python",
   "name": "python",
   "nbconvert_exporter": "python",
   "pygments_lexer": "ipython3",
   "version": "3.9.6"
  }
 },
 "nbformat": 4,
 "nbformat_minor": 5
}
